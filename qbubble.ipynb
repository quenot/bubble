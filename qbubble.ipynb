{
 "cells": [
  {
   "cell_type": "code",
   "execution_count": null,
   "metadata": {},
   "outputs": [],
   "source": [
    "# Copyright Georges Quénot - CNRS-LIG\n",
    "# This software comes without any Guarantee\n",
    "# Version 3 - 2020-03-23\n",
    "\n",
    "import matplotlib.pyplot as plt\n",
    "import matplotlib.image as mpimg\n",
    "plt.rcParams[\"figure.figsize\"] = (20,10)\n",
    "import numpy as np\n",
    "from scipy import interpolate as inpo\n",
    "import qbubble as qb\n",
    "import time"
   ]
  },
  {
   "cell_type": "code",
   "execution_count": null,
   "metadata": {},
   "outputs": [],
   "source": [
    "# Reads the original image\n",
    "img = mpimg.imread('bubble.jpg')/255\n",
    "# Build a continuous and differentiable version of the original image\n",
    "(h, w) = img.shape\n",
    "f = inpo.RectBivariateSpline(np.arange(h)+0.5,np.arange(w)+0.5,img)"
   ]
  },
  {
   "cell_type": "code",
   "execution_count": null,
   "metadata": {},
   "outputs": [],
   "source": [
    "t = time.time()\n",
    "# Builds a list of contours from manually selected points\n",
    "# and some manulally adjusted \"pressure\" values\n",
    "vl = []\n",
    "# Fully inside qbubbles\n",
    "vl.append(qb.qbubbleFit(64, 64, f, w, h, 0.04))\n",
    "vl.append(qb.qbubbleFit(95, 35, f, w, h, 0.04))\n",
    "vl.append(qb.qbubbleFit(28, 24, f, w, h, 0.02))\n",
    "vl.append(qb.qbubbleFit(19, 67, f, w, h, 0.04))\n",
    "vl.append(qb.qbubbleFit(40, 97, f, w, h, 0.04))\n",
    "vl.append(qb.qbubbleFit(96, 100, f, w, h, 0.04))\n",
    "vl.append(qb.qbubbleFit(38, 41, f, w, h, 0.04))\n",
    "vl.append(qb.qbubbleFit(82, 87, f, w, h, 0.04))\n",
    "vl.append(qb.qbubbleFit(58, 92, f, w, h, 0.04))\n",
    "vl.append(qb.qbubbleFit(108, 22, f, w, h, 0.04))\n",
    "vl.append(qb.qbubbleFit(72, 37, f, w, h, 0.04))\n",
    "vl.append(qb.qbubbleFit(10, 45, f, w, h, 0.04))\n",
    "vl.append(qb.qbubbleFit(5, 87, f, w, h, 0.04))\n",
    "vl.append(qb.qbubbleFit(89, 56, f, w, h, 0.04))\n",
    "vl.append(qb.qbubbleFit(38.75, 80.75, f, w, h, 0.02))\n",
    "vl.append(qb.qbubbleFit(109, 48, f, w, h, 0.04))\n",
    "# Bubbles with centers inside\n",
    "vl.append(qb.qbubbleFit(108, 70, f, w, h, 0.02))\n",
    "vl.append(qb.qbubbleFit(73, 113, f, w, h, 0.02))\n",
    "vl.append(qb.qbubbleFit(57, 18, f, w, h, 0.02))\n",
    "vl.append(qb.qbubbleFit(10, 110, f, w, h, 0.02))\n",
    "vl.append(qb.qbubbleFit(115, 116, f, w, h, 0.02))\n",
    "vl.append(qb.qbubbleFit(40, 125, f, w, h, 0.02))\n",
    "# Bubbles with borderline centers\n",
    "vl.append(qb.qbubbleFit(103, 1, f, w, h, 0.02))\n",
    "vl.append(qb.qbubbleFit(126, 32, f, w, h, 0.01))\n",
    "# Bubbles with centers outside\n",
    "vl.append(qb.qbubbleFit(1, 50, f, w, h, 0.04))\n",
    "vl.append(qb.qbubbleFit(27, 1, f, w, h, 0.04))\n",
    "vl.append(qb.qbubbleFit(12, 1, f, w, h, 0.04))\n",
    "# Bubbles with centers very outside (tricky)\n",
    "vl.append(qb.qbubbleFit(-3, 2, f, w, h, 0.04, r = 5))\n",
    "vl.append(qb.qbubbleFit(131, 96, f, w, h, 0.08, r = 5))\n",
    "vl.append(qb.qbubbleFit(93.5, 127.5, f, w, h, 0.02, r = 3))\n",
    "# Print execution time\n",
    "print(\"Elapsed time: \",time.time()-t)"
   ]
  },
  {
   "cell_type": "code",
   "execution_count": null,
   "metadata": {},
   "outputs": [],
   "source": [
    "# Display with pixels as blocks\n",
    "qb.qbubblePlot(vl, img, s = 8, t = 3)\n",
    "# Display with the continuous version\n",
    "# qbubblePlot(vl, img, s = 8, t = 3, f = f)"
   ]
  },
  {
   "cell_type": "code",
   "execution_count": null,
   "metadata": {},
   "outputs": [],
   "source": [
    "# Try to catch shapes outside of the qbubbles\n",
    "vl = []\n",
    "vl.append(qb.qbubbleFit(83, 16, f, w, h, 0.08, wd = 0.003, hs = 1.4))\n",
    "vl.append(qb.qbubbleFit(30, 45, f, w, h, 0.08, wd = 0.003, hs = 1.4))\n",
    "vl.append(qb.qbubbleFit(89, 93, f, w, h, 0.08, wd = 0.003, hs = 1.4))\n",
    "vl.append(qb.qbubbleFit(122, 97, f, w, h, 0.08, wd = 0.003, hs = 1.4))\n",
    "qb.qbubblePlot(vl, img, s = 8, t = 3)"
   ]
  },
  {
   "cell_type": "code",
   "execution_count": null,
   "metadata": {},
   "outputs": [],
   "source": [
    "# Try with a harder image\n",
    "img = mpimg.imread('frame181.png')[: ,: ,0]\n",
    "(h, w) = img.shape\n",
    "f = inpo.RectBivariateSpline(np.arange(h)+0.5,np.arange(w)+0.5,img)\n",
    "v0 = []\n",
    "v0.append(qb.qbubbleFit(68, 79, f, w, h, 0.04))\n",
    "v0.append(qb.qbubbleFit(31, 83, f, w, h, 0.04))\n",
    "v0.append(qb.qbubbleFit(101, 83, f, w, h, 0.02))\n",
    "v0.append(qb.qbubbleFit(75, 47, f, w, h, 0.04))\n",
    "v0.append(qb.qbubbleFit(55, 43, f, w, h, 0.04, r = 4))\n",
    "v0.append(qb.qbubbleFit(115, 28, f, w, h, 0.04, r = 12))\n",
    "v0.append(qb.qbubbleFit(47, 59, f, w, h, 0.04, r = 5))\n",
    "v0.append(qb.qbubbleFit(81, 66, f, w, h, 0.04, r = 2))\n",
    "qb.qbubblePlot(v0, img, s = 8, t = 3)"
   ]
  },
  {
   "cell_type": "code",
   "execution_count": null,
   "metadata": {},
   "outputs": [],
   "source": [
    "# Try automatic annotation with larger images\n",
    "img = mpimg.imread('image_00001.png')\n",
    "lv = qb.qbubbleAuto(img)\n",
    "qb.qbubblePlot(lv, img, s = 4, t = 2)"
   ]
  },
  {
   "cell_type": "code",
   "execution_count": null,
   "metadata": {},
   "outputs": [],
   "source": [
    "# Test regenerating a contour spline from the inside region\n",
    "h, w = img.shape\n",
    "print(lv[4])\n",
    "inside = qb.qbubbleImageInside(lv[4], w, h)\n",
    "print(inside.shape)\n",
    "v = qb.qbubbleInsideContour(inside)\n",
    "print(v)\n",
    "qb.qbubblePlot([v], img, s = 4, t = 3)"
   ]
  }
 ],
 "metadata": {
  "kernelspec": {
   "display_name": "Python 3",
   "language": "python",
   "name": "python3"
  },
  "language_info": {
   "codemirror_mode": {
    "name": "ipython",
    "version": 3
   },
   "file_extension": ".py",
   "mimetype": "text/x-python",
   "name": "python",
   "nbconvert_exporter": "python",
   "pygments_lexer": "ipython3",
   "version": "3.7.3"
  }
 },
 "nbformat": 4,
 "nbformat_minor": 2
}
